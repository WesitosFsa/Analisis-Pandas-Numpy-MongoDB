{
 "cells": [
  {
   "cell_type": "code",
   "execution_count": 2,
   "id": "269173c5-53cf-40e0-8bdd-629dfdaeb286",
   "metadata": {},
   "outputs": [],
   "source": [
    "import pandas as pd\n",
    "#hay dos formas de realizar combinaciones = concatenacion y mezcla\n",
    "#Concatenar por medio de filas\n",
    "DF1 = pd.DataFrame({'NOMBRE':['Max','Juan'],\n",
    "                    'CARRERA':['Mate','Fisica'],\n",
    "                    'EDAD':[19,21]})\n",
    "#indica cual sera el  indice del dataframe"
   ]
  },
  {
   "cell_type": "code",
   "execution_count": 6,
   "id": "a867e812-8468-4c82-8791-c1317b159890",
   "metadata": {},
   "outputs": [],
   "source": [
    "#reglas para concatenar DF a partir de filas que los dataframes tengan el mismo indice de columnas\n",
    "DF2 = pd.DataFrame({'NOMBRE':['pepe','mateo'],\n",
    "                    'CARRERA':['POO','Progra'],\n",
    "                    'EDAD':[22,35]}).set_index('NOMBRE')"
   ]
  },
  {
   "cell_type": "code",
   "execution_count": 7,
   "id": "e8067987-cfbf-4e03-8e3a-7b4515a034d1",
   "metadata": {},
   "outputs": [],
   "source": [
    "DF1 = pd.DataFrame({'NOMBRE':['Max','Juan'],\n",
    "                    'CARRERA':['Mate','Fisica'],\n",
    "                    'EDAD':[19,21]}).set_index('NOMBRE')\n"
   ]
  },
  {
   "cell_type": "code",
   "execution_count": 11,
   "id": "3b6d18e5-0213-481f-bb38-0694111e6b20",
   "metadata": {},
   "outputs": [],
   "source": [
    "#Concatenar dataframes\n",
    "DF = pd.concat([DF1,DF2])"
   ]
  },
  {
   "cell_type": "code",
   "execution_count": 8,
   "id": "8a950cb4-e65c-48b3-bdaf-d36f27ee356f",
   "metadata": {},
   "outputs": [
    {
     "data": {
      "text/html": [
       "<div>\n",
       "<style scoped>\n",
       "    .dataframe tbody tr th:only-of-type {\n",
       "        vertical-align: middle;\n",
       "    }\n",
       "\n",
       "    .dataframe tbody tr th {\n",
       "        vertical-align: top;\n",
       "    }\n",
       "\n",
       "    .dataframe thead th {\n",
       "        text-align: right;\n",
       "    }\n",
       "</style>\n",
       "<table border=\"1\" class=\"dataframe\">\n",
       "  <thead>\n",
       "    <tr style=\"text-align: right;\">\n",
       "      <th></th>\n",
       "      <th>CARRERA</th>\n",
       "      <th>EDAD</th>\n",
       "    </tr>\n",
       "    <tr>\n",
       "      <th>NOMBRE</th>\n",
       "      <th></th>\n",
       "      <th></th>\n",
       "    </tr>\n",
       "  </thead>\n",
       "  <tbody>\n",
       "    <tr>\n",
       "      <th>Max</th>\n",
       "      <td>Mate</td>\n",
       "      <td>19</td>\n",
       "    </tr>\n",
       "    <tr>\n",
       "      <th>Juan</th>\n",
       "      <td>Fisica</td>\n",
       "      <td>21</td>\n",
       "    </tr>\n",
       "  </tbody>\n",
       "</table>\n",
       "</div>"
      ],
      "text/plain": [
       "       CARRERA  EDAD\n",
       "NOMBRE              \n",
       "Max       Mate    19\n",
       "Juan    Fisica    21"
      ]
     },
     "execution_count": 8,
     "metadata": {},
     "output_type": "execute_result"
    }
   ],
   "source": [
    "#Primer dataframe\n",
    "DF1"
   ]
  },
  {
   "cell_type": "code",
   "execution_count": 9,
   "id": "d6e91b23-e89f-458e-9a39-494c2d108fb2",
   "metadata": {},
   "outputs": [
    {
     "data": {
      "text/html": [
       "<div>\n",
       "<style scoped>\n",
       "    .dataframe tbody tr th:only-of-type {\n",
       "        vertical-align: middle;\n",
       "    }\n",
       "\n",
       "    .dataframe tbody tr th {\n",
       "        vertical-align: top;\n",
       "    }\n",
       "\n",
       "    .dataframe thead th {\n",
       "        text-align: right;\n",
       "    }\n",
       "</style>\n",
       "<table border=\"1\" class=\"dataframe\">\n",
       "  <thead>\n",
       "    <tr style=\"text-align: right;\">\n",
       "      <th></th>\n",
       "      <th>CARRERA</th>\n",
       "      <th>EDAD</th>\n",
       "    </tr>\n",
       "    <tr>\n",
       "      <th>NOMBRE</th>\n",
       "      <th></th>\n",
       "      <th></th>\n",
       "    </tr>\n",
       "  </thead>\n",
       "  <tbody>\n",
       "    <tr>\n",
       "      <th>pepe</th>\n",
       "      <td>POO</td>\n",
       "      <td>22</td>\n",
       "    </tr>\n",
       "    <tr>\n",
       "      <th>mateo</th>\n",
       "      <td>Progra</td>\n",
       "      <td>35</td>\n",
       "    </tr>\n",
       "  </tbody>\n",
       "</table>\n",
       "</div>"
      ],
      "text/plain": [
       "       CARRERA  EDAD\n",
       "NOMBRE              \n",
       "pepe       POO    22\n",
       "mateo   Progra    35"
      ]
     },
     "execution_count": 9,
     "metadata": {},
     "output_type": "execute_result"
    }
   ],
   "source": [
    "#Segundo dataframe\n",
    "DF2"
   ]
  },
  {
   "cell_type": "code",
   "execution_count": 12,
   "id": "708f1e8d-1725-40fb-b7f6-f43a8f2b6f16",
   "metadata": {},
   "outputs": [
    {
     "data": {
      "text/html": [
       "<div>\n",
       "<style scoped>\n",
       "    .dataframe tbody tr th:only-of-type {\n",
       "        vertical-align: middle;\n",
       "    }\n",
       "\n",
       "    .dataframe tbody tr th {\n",
       "        vertical-align: top;\n",
       "    }\n",
       "\n",
       "    .dataframe thead th {\n",
       "        text-align: right;\n",
       "    }\n",
       "</style>\n",
       "<table border=\"1\" class=\"dataframe\">\n",
       "  <thead>\n",
       "    <tr style=\"text-align: right;\">\n",
       "      <th></th>\n",
       "      <th>CARRERA</th>\n",
       "      <th>EDAD</th>\n",
       "    </tr>\n",
       "    <tr>\n",
       "      <th>NOMBRE</th>\n",
       "      <th></th>\n",
       "      <th></th>\n",
       "    </tr>\n",
       "  </thead>\n",
       "  <tbody>\n",
       "    <tr>\n",
       "      <th>Max</th>\n",
       "      <td>Mate</td>\n",
       "      <td>19</td>\n",
       "    </tr>\n",
       "    <tr>\n",
       "      <th>Juan</th>\n",
       "      <td>Fisica</td>\n",
       "      <td>21</td>\n",
       "    </tr>\n",
       "    <tr>\n",
       "      <th>pepe</th>\n",
       "      <td>POO</td>\n",
       "      <td>22</td>\n",
       "    </tr>\n",
       "    <tr>\n",
       "      <th>mateo</th>\n",
       "      <td>Progra</td>\n",
       "      <td>35</td>\n",
       "    </tr>\n",
       "  </tbody>\n",
       "</table>\n",
       "</div>"
      ],
      "text/plain": [
       "       CARRERA  EDAD\n",
       "NOMBRE              \n",
       "Max       Mate    19\n",
       "Juan    Fisica    21\n",
       "pepe       POO    22\n",
       "mateo   Progra    35"
      ]
     },
     "execution_count": 12,
     "metadata": {},
     "output_type": "execute_result"
    }
   ],
   "source": [
    "#concatenar dos dataframes\n",
    "DF"
   ]
  },
  {
   "cell_type": "code",
   "execution_count": 18,
   "id": "8b811f10-baa4-468b-963b-6077c6fdd25b",
   "metadata": {},
   "outputs": [],
   "source": [
    "#hay dos formas de realizar combinaciones = concatenacion y mezcla\n",
    "#Concatenar por columnas\n",
    "#REGLA Los dataframes combinados tengan el mismo indice de filas\n",
    "Df1 = pd.DataFrame({'AUTOS':['nissan','ford','audio'],\n",
    "                    'COLOR':['blanco','azul','rojo']}).set_index('AUTOS')\n",
    "Df2 = pd.DataFrame ({'AUTOS':['nissan','ford','audio'],\n",
    "                     'MODELO':[2018,2020,2022]}).set_index('AUTOS')"
   ]
  },
  {
   "cell_type": "code",
   "execution_count": 19,
   "id": "bda48c8a-3465-4da1-9460-744dd19aecd0",
   "metadata": {},
   "outputs": [
    {
     "data": {
      "text/html": [
       "<div>\n",
       "<style scoped>\n",
       "    .dataframe tbody tr th:only-of-type {\n",
       "        vertical-align: middle;\n",
       "    }\n",
       "\n",
       "    .dataframe tbody tr th {\n",
       "        vertical-align: top;\n",
       "    }\n",
       "\n",
       "    .dataframe thead th {\n",
       "        text-align: right;\n",
       "    }\n",
       "</style>\n",
       "<table border=\"1\" class=\"dataframe\">\n",
       "  <thead>\n",
       "    <tr style=\"text-align: right;\">\n",
       "      <th></th>\n",
       "      <th>COLOR</th>\n",
       "    </tr>\n",
       "    <tr>\n",
       "      <th>AUTOS</th>\n",
       "      <th></th>\n",
       "    </tr>\n",
       "  </thead>\n",
       "  <tbody>\n",
       "    <tr>\n",
       "      <th>nissan</th>\n",
       "      <td>blanco</td>\n",
       "    </tr>\n",
       "    <tr>\n",
       "      <th>ford</th>\n",
       "      <td>azul</td>\n",
       "    </tr>\n",
       "    <tr>\n",
       "      <th>audio</th>\n",
       "      <td>rojo</td>\n",
       "    </tr>\n",
       "  </tbody>\n",
       "</table>\n",
       "</div>"
      ],
      "text/plain": [
       "         COLOR\n",
       "AUTOS         \n",
       "nissan  blanco\n",
       "ford      azul\n",
       "audio     rojo"
      ]
     },
     "execution_count": 19,
     "metadata": {},
     "output_type": "execute_result"
    }
   ],
   "source": [
    "Df1"
   ]
  },
  {
   "cell_type": "code",
   "execution_count": 20,
   "id": "9a8233a0-85d6-4dd0-a044-e3dba2ae2837",
   "metadata": {},
   "outputs": [
    {
     "data": {
      "text/html": [
       "<div>\n",
       "<style scoped>\n",
       "    .dataframe tbody tr th:only-of-type {\n",
       "        vertical-align: middle;\n",
       "    }\n",
       "\n",
       "    .dataframe tbody tr th {\n",
       "        vertical-align: top;\n",
       "    }\n",
       "\n",
       "    .dataframe thead th {\n",
       "        text-align: right;\n",
       "    }\n",
       "</style>\n",
       "<table border=\"1\" class=\"dataframe\">\n",
       "  <thead>\n",
       "    <tr style=\"text-align: right;\">\n",
       "      <th></th>\n",
       "      <th>MODELO</th>\n",
       "    </tr>\n",
       "    <tr>\n",
       "      <th>AUTOS</th>\n",
       "      <th></th>\n",
       "    </tr>\n",
       "  </thead>\n",
       "  <tbody>\n",
       "    <tr>\n",
       "      <th>nissan</th>\n",
       "      <td>2018</td>\n",
       "    </tr>\n",
       "    <tr>\n",
       "      <th>ford</th>\n",
       "      <td>2020</td>\n",
       "    </tr>\n",
       "    <tr>\n",
       "      <th>audio</th>\n",
       "      <td>2022</td>\n",
       "    </tr>\n",
       "  </tbody>\n",
       "</table>\n",
       "</div>"
      ],
      "text/plain": [
       "        MODELO\n",
       "AUTOS         \n",
       "nissan    2018\n",
       "ford      2020\n",
       "audio     2022"
      ]
     },
     "execution_count": 20,
     "metadata": {},
     "output_type": "execute_result"
    }
   ],
   "source": [
    "Df2"
   ]
  },
  {
   "cell_type": "code",
   "execution_count": 22,
   "id": "889d9b9b-2b93-4e54-90da-02e73b3e076d",
   "metadata": {},
   "outputs": [
    {
     "data": {
      "text/html": [
       "<div>\n",
       "<style scoped>\n",
       "    .dataframe tbody tr th:only-of-type {\n",
       "        vertical-align: middle;\n",
       "    }\n",
       "\n",
       "    .dataframe tbody tr th {\n",
       "        vertical-align: top;\n",
       "    }\n",
       "\n",
       "    .dataframe thead th {\n",
       "        text-align: right;\n",
       "    }\n",
       "</style>\n",
       "<table border=\"1\" class=\"dataframe\">\n",
       "  <thead>\n",
       "    <tr style=\"text-align: right;\">\n",
       "      <th></th>\n",
       "      <th>COLOR</th>\n",
       "      <th>MODELO</th>\n",
       "    </tr>\n",
       "    <tr>\n",
       "      <th>AUTOS</th>\n",
       "      <th></th>\n",
       "      <th></th>\n",
       "    </tr>\n",
       "  </thead>\n",
       "  <tbody>\n",
       "    <tr>\n",
       "      <th>nissan</th>\n",
       "      <td>blanco</td>\n",
       "      <td>2018</td>\n",
       "    </tr>\n",
       "    <tr>\n",
       "      <th>ford</th>\n",
       "      <td>azul</td>\n",
       "      <td>2020</td>\n",
       "    </tr>\n",
       "    <tr>\n",
       "      <th>audio</th>\n",
       "      <td>rojo</td>\n",
       "      <td>2022</td>\n",
       "    </tr>\n",
       "  </tbody>\n",
       "</table>\n",
       "</div>"
      ],
      "text/plain": [
       "         COLOR  MODELO\n",
       "AUTOS                 \n",
       "nissan  blanco    2018\n",
       "ford      azul    2020\n",
       "audio     rojo    2022"
      ]
     },
     "execution_count": 22,
     "metadata": {},
     "output_type": "execute_result"
    }
   ],
   "source": [
    "#axis  0 ES PARA FILAS Y 1 PARA COLUMNAS \n",
    "#SIRVE para tomar como referencia las columnas\n",
    "df = pd.concat([Df1,Df2], axis = 1)\n",
    "df\n"
   ]
  },
  {
   "cell_type": "code",
   "execution_count": 27,
   "id": "7f330643-84ce-47f1-b3a5-5552b0d5d0e8",
   "metadata": {},
   "outputs": [],
   "source": [
    "#MEZCLA permite integrar filas de DOS datagrames que contienen informacion en comun\n",
    "#en una o varias columnas mediante una CLAVE\n",
    "df1 = pd.DataFrame({'AUTOS':['nissan','ford','audio'],\n",
    "                    'COLOR':['blanco','azul','rojo']})\n",
    "df2 = pd.DataFrame ({'AUTOS':['toyota','ford','audio'],\n",
    "                     'MODELO':[2018,2020,2022]})"
   ]
  },
  {
   "cell_type": "code",
   "execution_count": 24,
   "id": "9f196368-4628-44c7-b710-049c85f71a60",
   "metadata": {},
   "outputs": [
    {
     "data": {
      "text/html": [
       "<div>\n",
       "<style scoped>\n",
       "    .dataframe tbody tr th:only-of-type {\n",
       "        vertical-align: middle;\n",
       "    }\n",
       "\n",
       "    .dataframe tbody tr th {\n",
       "        vertical-align: top;\n",
       "    }\n",
       "\n",
       "    .dataframe thead th {\n",
       "        text-align: right;\n",
       "    }\n",
       "</style>\n",
       "<table border=\"1\" class=\"dataframe\">\n",
       "  <thead>\n",
       "    <tr style=\"text-align: right;\">\n",
       "      <th></th>\n",
       "      <th>AUTOS</th>\n",
       "      <th>COLOR</th>\n",
       "      <th>MODELO</th>\n",
       "    </tr>\n",
       "  </thead>\n",
       "  <tbody>\n",
       "    <tr>\n",
       "      <th>0</th>\n",
       "      <td>nissan</td>\n",
       "      <td>blanco</td>\n",
       "      <td>2018</td>\n",
       "    </tr>\n",
       "    <tr>\n",
       "      <th>1</th>\n",
       "      <td>ford</td>\n",
       "      <td>azul</td>\n",
       "      <td>2020</td>\n",
       "    </tr>\n",
       "    <tr>\n",
       "      <th>2</th>\n",
       "      <td>audio</td>\n",
       "      <td>rojo</td>\n",
       "      <td>2022</td>\n",
       "    </tr>\n",
       "  </tbody>\n",
       "</table>\n",
       "</div>"
      ],
      "text/plain": [
       "    AUTOS   COLOR  MODELO\n",
       "0  nissan  blanco    2018\n",
       "1    ford    azul    2020\n",
       "2   audio    rojo    2022"
      ]
     },
     "execution_count": 24,
     "metadata": {},
     "output_type": "execute_result"
    }
   ],
   "source": [
    "#con merge vamos a poder mezclar\n",
    "dff = pd.merge(df1,df2, on='AUTOS') #si la informacion no es en comun se elimina la fila el dataframe\n",
    "dff\n",
    "#tomamos como referencia las filas\n",
    "dff = pd.merge(df1,df2, on='AUTOS',how = 'outer')\n",
    "#tomamos como referencia las columnas pero este viene por defecto\n",
    "dff = pd.merge(df1,df2, on='AUTOS',how = 'inner')"
   ]
  },
  {
   "cell_type": "code",
   "execution_count": 28,
   "id": "50c03edc-6174-438e-8b96-6ea05dea508e",
   "metadata": {},
   "outputs": [
    {
     "data": {
      "text/html": [
       "<div>\n",
       "<style scoped>\n",
       "    .dataframe tbody tr th:only-of-type {\n",
       "        vertical-align: middle;\n",
       "    }\n",
       "\n",
       "    .dataframe tbody tr th {\n",
       "        vertical-align: top;\n",
       "    }\n",
       "\n",
       "    .dataframe thead th {\n",
       "        text-align: right;\n",
       "    }\n",
       "</style>\n",
       "<table border=\"1\" class=\"dataframe\">\n",
       "  <thead>\n",
       "    <tr style=\"text-align: right;\">\n",
       "      <th></th>\n",
       "      <th>AUTOS</th>\n",
       "      <th>COLOR</th>\n",
       "      <th>MODELO</th>\n",
       "    </tr>\n",
       "  </thead>\n",
       "  <tbody>\n",
       "    <tr>\n",
       "      <th>0</th>\n",
       "      <td>nissan</td>\n",
       "      <td>blanco</td>\n",
       "      <td>NaN</td>\n",
       "    </tr>\n",
       "    <tr>\n",
       "      <th>1</th>\n",
       "      <td>ford</td>\n",
       "      <td>azul</td>\n",
       "      <td>2020.0</td>\n",
       "    </tr>\n",
       "    <tr>\n",
       "      <th>2</th>\n",
       "      <td>audio</td>\n",
       "      <td>rojo</td>\n",
       "      <td>2022.0</td>\n",
       "    </tr>\n",
       "    <tr>\n",
       "      <th>3</th>\n",
       "      <td>toyota</td>\n",
       "      <td>NaN</td>\n",
       "      <td>2018.0</td>\n",
       "    </tr>\n",
       "  </tbody>\n",
       "</table>\n",
       "</div>"
      ],
      "text/plain": [
       "    AUTOS   COLOR  MODELO\n",
       "0  nissan  blanco     NaN\n",
       "1    ford    azul  2020.0\n",
       "2   audio    rojo  2022.0\n",
       "3  toyota     NaN  2018.0"
      ]
     },
     "execution_count": 28,
     "metadata": {},
     "output_type": "execute_result"
    }
   ],
   "source": [
    "dff = pd.merge(df1,df2, on='AUTOS',how = 'outer')\n",
    "dff"
   ]
  },
  {
   "cell_type": "code",
   "execution_count": 29,
   "id": "b6443d1e-bdea-40ab-95de-f086d66456fe",
   "metadata": {},
   "outputs": [
    {
     "data": {
      "text/html": [
       "<div>\n",
       "<style scoped>\n",
       "    .dataframe tbody tr th:only-of-type {\n",
       "        vertical-align: middle;\n",
       "    }\n",
       "\n",
       "    .dataframe tbody tr th {\n",
       "        vertical-align: top;\n",
       "    }\n",
       "\n",
       "    .dataframe thead th {\n",
       "        text-align: right;\n",
       "    }\n",
       "</style>\n",
       "<table border=\"1\" class=\"dataframe\">\n",
       "  <thead>\n",
       "    <tr style=\"text-align: right;\">\n",
       "      <th></th>\n",
       "      <th>AUTOS</th>\n",
       "      <th>COLOR</th>\n",
       "      <th>MODELO</th>\n",
       "    </tr>\n",
       "  </thead>\n",
       "  <tbody>\n",
       "    <tr>\n",
       "      <th>0</th>\n",
       "      <td>nissan</td>\n",
       "      <td>blanco</td>\n",
       "      <td>NaN</td>\n",
       "    </tr>\n",
       "    <tr>\n",
       "      <th>1</th>\n",
       "      <td>ford</td>\n",
       "      <td>azul</td>\n",
       "      <td>2020.0</td>\n",
       "    </tr>\n",
       "    <tr>\n",
       "      <th>2</th>\n",
       "      <td>audio</td>\n",
       "      <td>rojo</td>\n",
       "      <td>2022.0</td>\n",
       "    </tr>\n",
       "  </tbody>\n",
       "</table>\n",
       "</div>"
      ],
      "text/plain": [
       "    AUTOS   COLOR  MODELO\n",
       "0  nissan  blanco     NaN\n",
       "1    ford    azul  2020.0\n",
       "2   audio    rojo  2022.0"
      ]
     },
     "execution_count": 29,
     "metadata": {},
     "output_type": "execute_result"
    }
   ],
   "source": [
    "# recoje datos del primer data frame\n",
    "dff = pd.merge(df1,df2, on='AUTOS',how = 'left')\n",
    "dff"
   ]
  },
  {
   "cell_type": "code",
   "execution_count": 30,
   "id": "9a245af8-8497-423c-8583-8b61cb3640d5",
   "metadata": {},
   "outputs": [
    {
     "data": {
      "text/html": [
       "<div>\n",
       "<style scoped>\n",
       "    .dataframe tbody tr th:only-of-type {\n",
       "        vertical-align: middle;\n",
       "    }\n",
       "\n",
       "    .dataframe tbody tr th {\n",
       "        vertical-align: top;\n",
       "    }\n",
       "\n",
       "    .dataframe thead th {\n",
       "        text-align: right;\n",
       "    }\n",
       "</style>\n",
       "<table border=\"1\" class=\"dataframe\">\n",
       "  <thead>\n",
       "    <tr style=\"text-align: right;\">\n",
       "      <th></th>\n",
       "      <th>AUTOS</th>\n",
       "      <th>COLOR</th>\n",
       "      <th>MODELO</th>\n",
       "    </tr>\n",
       "  </thead>\n",
       "  <tbody>\n",
       "    <tr>\n",
       "      <th>0</th>\n",
       "      <td>toyota</td>\n",
       "      <td>NaN</td>\n",
       "      <td>2018</td>\n",
       "    </tr>\n",
       "    <tr>\n",
       "      <th>1</th>\n",
       "      <td>ford</td>\n",
       "      <td>azul</td>\n",
       "      <td>2020</td>\n",
       "    </tr>\n",
       "    <tr>\n",
       "      <th>2</th>\n",
       "      <td>audio</td>\n",
       "      <td>rojo</td>\n",
       "      <td>2022</td>\n",
       "    </tr>\n",
       "  </tbody>\n",
       "</table>\n",
       "</div>"
      ],
      "text/plain": [
       "    AUTOS COLOR  MODELO\n",
       "0  toyota   NaN    2018\n",
       "1    ford  azul    2020\n",
       "2   audio  rojo    2022"
      ]
     },
     "execution_count": 30,
     "metadata": {},
     "output_type": "execute_result"
    }
   ],
   "source": [
    "# recoje datos del segundo data frame\n",
    "dff = pd.merge(df1,df2, on='AUTOS',how = 'right')\n",
    "dff"
   ]
  },
  {
   "cell_type": "code",
   "execution_count": null,
   "id": "5a905e8a-203f-40de-9fef-cf55dcdd90eb",
   "metadata": {},
   "outputs": [],
   "source": []
  }
 ],
 "metadata": {
  "kernelspec": {
   "display_name": "Python 3 (ipykernel)",
   "language": "python",
   "name": "python3"
  },
  "language_info": {
   "codemirror_mode": {
    "name": "ipython",
    "version": 3
   },
   "file_extension": ".py",
   "mimetype": "text/x-python",
   "name": "python",
   "nbconvert_exporter": "python",
   "pygments_lexer": "ipython3",
   "version": "3.12.0"
  }
 },
 "nbformat": 4,
 "nbformat_minor": 5
}
