{
 "cells": [
  {
   "cell_type": "code",
   "execution_count": 2,
   "id": "7190443b-69c8-4460-8eae-30ea01037243",
   "metadata": {},
   "outputs": [
    {
     "name": "stdout",
     "output_type": "stream",
     "text": [
      "0        rojo\n",
      "1        azul\n",
      "2    amarillo\n",
      "3       verde\n",
      "4      blanco\n",
      "5        gris\n",
      "dtype: object\n",
      "Matematica    8.8\n",
      "Fisica        7.5\n",
      "Arte          1.8\n",
      "Musica        1.1\n",
      "Lengua        9.0\n",
      "Historia      6.0\n",
      "dtype: float64\n"
     ]
    },
    {
     "data": {
      "text/plain": [
       "dtype('float64')"
      ]
     },
     "execution_count": 2,
     "metadata": {},
     "output_type": "execute_result"
    }
   ],
   "source": [
    "import pandas as pd\n",
    "#convertir listas a series\n",
    "colores=pd.Series(['rojo','azul','amarillo','verde','blanco','gris'])\n",
    "print(colores)\n",
    "#convertir diccionarios a series\n",
    "asignaturas=pd.Series({'Matematica':8.8,'Fisica':7.5,'Arte':1.8,'Musica':1.1,'Lengua':9,'Historia':6})\n",
    "print(asignaturas)\n",
    "#propiedades de la serie\n",
    "asignaturas.size #nos dice el tamaño\n",
    "asignaturas.index #nos dice los indices\n",
    "asignaturas.dtype #nos dice el tipo de valor\n",
    "#acceder a un valor desde el indice mediante listas\n",
    "colores[0]\n",
    "#acceder a un valor desde el indice mediante diccionarios\n",
    "asignaturas[['Musica','Lengua']]"
   ]
  },
  {
   "cell_type": "code",
   "execution_count": 19,
   "id": "130f59c7-aa74-4dc6-99ab-34ceb90d29bd",
   "metadata": {},
   "outputs": [
    {
     "data": {
      "text/plain": [
       "0      2\n",
       "1      4\n",
       "2      6\n",
       "3      8\n",
       "4     10\n",
       "5     12\n",
       "6     14\n",
       "7     16\n",
       "8     18\n",
       "9     20\n",
       "10    22\n",
       "11    24\n",
       "dtype: int64"
      ]
     },
     "execution_count": 19,
     "metadata": {},
     "output_type": "execute_result"
    }
   ],
   "source": [
    "#Operaciones\n",
    "numeros = pd.Series([1,2,3,4,5,6,7,8,9,10,11,12])\n",
    "numeros*2"
   ]
  }
 ],
 "metadata": {
  "kernelspec": {
   "display_name": "Python 3 (ipykernel)",
   "language": "python",
   "name": "python3"
  },
  "language_info": {
   "codemirror_mode": {
    "name": "ipython",
    "version": 3
   },
   "file_extension": ".py",
   "mimetype": "text/x-python",
   "name": "python",
   "nbconvert_exporter": "python",
   "pygments_lexer": "ipython3",
   "version": "3.12.0"
  }
 },
 "nbformat": 4,
 "nbformat_minor": 5
}
