{
 "cells": [
  {
   "cell_type": "code",
   "execution_count": 4,
   "id": "707f751f-47e2-4719-8b9f-46c271afdbaa",
   "metadata": {},
   "outputs": [],
   "source": [
    "#DATAFRAME A PARTIR DE DICCIONARIO\n",
    "import pandas as pd\n",
    "data = {'NOMBRE':['maria','jose','juan','lupe'],\n",
    "        'CARRERA':['electro','meca','software','aguas'],\n",
    "       'CORREO':['a@gmail.com','b@gmail.com','c@.com','d@cof']}\n",
    "estudiantes = pd.DataFrame(data)\n",
    "print(estudiantes)\n",
    "#DATAFRAME A PARTIR DE LISTAS\n",
    "df = pd.DataFrame([['Maria',47],['Juan',27],['Miguel',37],['Fabian',17]],columns =['NOMBRE','EDAD'])\n",
    "print(df)\n"
   ]
  },
  {
   "cell_type": "code",
   "execution_count": 4,
   "id": "c60a1226-ea8e-4e98-9321-f1b1c63973c5",
   "metadata": {},
   "outputs": [
    {
     "name": "stdout",
     "output_type": "stream",
     "text": [
      "          a         b         c\n",
      "0  0.051940 -0.889267 -0.696885\n",
      "1  0.471701  0.837274  0.281171\n",
      "2 -0.371296  0.152288  1.174531\n",
      "3 -0.862664 -0.936479 -1.547650\n"
     ]
    }
   ],
   "source": [
    "#DATAFRAME USANDO NUMPY \n",
    "import pandas as pd\n",
    "import numpy as np\n",
    "dfnumpy = pd.DataFrame(np.random.randn(4, 3), columns=['a', 'b', 'c'])\n",
    "print(dfnumpy)\n"
   ]
  },
  {
   "cell_type": "code",
   "execution_count": null,
   "id": "dd237f00-78e0-4246-9983-c1eec10ed589",
   "metadata": {},
   "outputs": [],
   "source": []
  }
 ],
 "metadata": {
  "kernelspec": {
   "display_name": "Python 3 (ipykernel)",
   "language": "python",
   "name": "python3"
  },
  "language_info": {
   "codemirror_mode": {
    "name": "ipython",
    "version": 3
   },
   "file_extension": ".py",
   "mimetype": "text/x-python",
   "name": "python",
   "nbconvert_exporter": "python",
   "pygments_lexer": "ipython3",
   "version": "3.12.0"
  }
 },
 "nbformat": 4,
 "nbformat_minor": 5
}
