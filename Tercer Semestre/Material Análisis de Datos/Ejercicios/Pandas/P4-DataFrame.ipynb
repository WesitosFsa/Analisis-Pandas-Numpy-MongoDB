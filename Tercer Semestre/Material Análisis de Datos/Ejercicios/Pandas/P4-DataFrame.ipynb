{
 "cells": [
  {
   "cell_type": "code",
   "execution_count": 4,
   "id": "707f751f-47e2-4719-8b9f-46c271afdbaa",
   "metadata": {},
   "outputs": [],
   "source": [
    "#DATAFRAME A PARTIR DE DICCIONARIO\n",
    "import pandas as pd\n",
    "data = {'NOMBRE':['maria','jose','juan','lupe'],\n",
    "        'CARRERA':['electro','meca','software','aguas'],\n",
    "       'CORREO':['a@gmail.com','b@gmail.com','c@.com','d@cof']}\n",
    "estudiantes = pd.DataFrame(data)\n",
    "print(estudiantes)\n",
    "#DATAFRAME A PARTIR DE LISTAS\n",
    "df = pd.DataFrame([['Maria',47],['Juan',27],['Miguel',37],['Fabian',17]],columns =['NOMBRE','EDAD'])\n",
    "print(df)\n"
   ]
  },
  {
   "cell_type": "code",
   "execution_count": 10,
   "id": "c60a1226-ea8e-4e98-9321-f1b1c63973c5",
   "metadata": {},
   "outputs": [
    {
     "ename": "NameError",
     "evalue": "name 'columns' is not defined",
     "output_type": "error",
     "traceback": [
      "\u001b[1;31m---------------------------------------------------------------------------\u001b[0m",
      "\u001b[1;31mNameError\u001b[0m                                 Traceback (most recent call last)",
      "Cell \u001b[1;32mIn[10], line 3\u001b[0m\n\u001b[0;32m      1\u001b[0m \u001b[38;5;66;03m#DATAFRAME USANDO NUMPY \u001b[39;00m\n\u001b[0;32m      2\u001b[0m \u001b[38;5;28;01mimport\u001b[39;00m \u001b[38;5;21;01mnumpy\u001b[39;00m \u001b[38;5;28;01mas\u001b[39;00m \u001b[38;5;21;01mnp\u001b[39;00m\n\u001b[1;32m----> 3\u001b[0m dfnumpy \u001b[38;5;241m=\u001b[39m pd\u001b[38;5;241m.\u001b[39mDataFrame(np\u001b[38;5;241m.\u001b[39mrandom\u001b[38;5;241m.\u001b[39mrandn(\u001b[38;5;241m4\u001b[39m,\u001b[38;5;241m3\u001b[39m),\u001b[43mcolumns\u001b[49m[\u001b[38;5;124m'\u001b[39m\u001b[38;5;124ma\u001b[39m\u001b[38;5;124m'\u001b[39m,\u001b[38;5;124m'\u001b[39m\u001b[38;5;124mb\u001b[39m\u001b[38;5;124m'\u001b[39m,\u001b[38;5;124m'\u001b[39m\u001b[38;5;124mc\u001b[39m\u001b[38;5;124m'\u001b[39m])\n\u001b[0;32m      4\u001b[0m \u001b[38;5;28mprint\u001b[39m(dfnumpy)\n",
      "\u001b[1;31mNameError\u001b[0m: name 'columns' is not defined"
     ]
    }
   ],
   "source": [
    "#DATAFRAME USANDO NUMPY \n",
    "import numpy as np\n",
    "dfnumpy = pd.DataFrame(np.random.randn(4,3),columns['a','b','c'])\n",
    "print(dfnumpy)"
   ]
  },
  {
   "cell_type": "code",
   "execution_count": null,
   "id": "dd237f00-78e0-4246-9983-c1eec10ed589",
   "metadata": {},
   "outputs": [],
   "source": []
  }
 ],
 "metadata": {
  "kernelspec": {
   "display_name": "Python 3 (ipykernel)",
   "language": "python",
   "name": "python3"
  },
  "language_info": {
   "codemirror_mode": {
    "name": "ipython",
    "version": 3
   },
   "file_extension": ".py",
   "mimetype": "text/x-python",
   "name": "python",
   "nbconvert_exporter": "python",
   "pygments_lexer": "ipython3",
   "version": "3.12.0"
  }
 },
 "nbformat": 4,
 "nbformat_minor": 5
}
