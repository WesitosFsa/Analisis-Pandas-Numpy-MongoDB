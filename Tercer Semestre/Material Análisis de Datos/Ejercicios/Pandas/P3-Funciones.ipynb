{
 "cells": [
  {
   "cell_type": "code",
   "execution_count": null,
   "id": "329b100d-a8df-4dcf-932d-c10f4e299528",
   "metadata": {},
   "outputs": [],
   "source": [
    "import pandas as pd\n",
    "numeros = pd.Series([1,2,3,4,5,5,5,6,7,8,9])\n",
    "numeros.sum() #sumar todos los valores restar multiplicar etcetc\n",
    "numeros.max() #valor maximo\n",
    "numeros.min() #valor minimo\n",
    "numeros.std() #desviacion estandar\n",
    "numeros.describe() #extructura de la serie\n",
    "#con diccionarios materias \n",
    "materias=pd.Series({'ais':8,'boo':7.4,'dengua':5.5,'cate':2.1}) \n",
    "print(materias[materias > 6]) #valores mayores que 6\n",
    "print(materias.sort_values()) #de menor a mayor\n",
    "print(materias.sort_index(ascending=True)) #de mayor a menor abc\n",
    "print(materias.sort_index(ascending=False)) #de memor a mayor abc\n",
    "#pd a valores escalar todas los index tendran un 5\n",
    "data=5\n",
    "serie=pd.Series(data, index=[0,1,2,3,4,5])\n",
    "print(serie)\n",
    "#emparejar valores en este caso indices a  data list\n",
    "data_list = ['Messi','Cr7','Mbappe']\n",
    "indices = ['argentina','italia','francia']\n",
    "futbolin = pd.Series(data_list,index=indices)\n",
    "print(futbolin)"
   ]
  },
  {
   "cell_type": "code",
   "execution_count": 40,
   "id": "4eb966f5-6bd5-468a-aafe-3367803c375a",
   "metadata": {},
   "outputs": [
    {
     "name": "stdout",
     "output_type": "stream",
     "text": [
      "argentina     Messi\n",
      "italia          Cr7\n",
      "francia      Mbappe\n",
      "dtype: object\n"
     ]
    }
   ],
   "source": []
  },
  {
   "cell_type": "code",
   "execution_count": null,
   "id": "bc3ade8a-fe48-4fe3-a344-59734ab56991",
   "metadata": {},
   "outputs": [],
   "source": []
  }
 ],
 "metadata": {
  "kernelspec": {
   "display_name": "Python 3 (ipykernel)",
   "language": "python",
   "name": "python3"
  },
  "language_info": {
   "codemirror_mode": {
    "name": "ipython",
    "version": 3
   },
   "file_extension": ".py",
   "mimetype": "text/x-python",
   "name": "python",
   "nbconvert_exporter": "python",
   "pygments_lexer": "ipython3",
   "version": "3.12.0"
  }
 },
 "nbformat": 4,
 "nbformat_minor": 5
}
