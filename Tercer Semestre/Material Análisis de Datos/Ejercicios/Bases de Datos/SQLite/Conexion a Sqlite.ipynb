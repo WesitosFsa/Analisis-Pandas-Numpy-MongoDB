{
 "cells": [
  {
   "cell_type": "code",
   "execution_count": 7,
   "id": "a1e392ce-6d79-4096-91f3-5f2864268b0f",
   "metadata": {},
   "outputs": [
    {
     "name": "stdout",
     "output_type": "stream",
     "text": [
      "                     field1                    field2  \\\n",
      "0                       _id                      Tipo   \n",
      "1  6581ffbe7d4586d80596ad81        Habitación privada   \n",
      "2  6581ffbe7d4586d80596ad82        Habitación privada   \n",
      "3  6581ffbe7d4586d80596ad83  Alojamiento entero: piso   \n",
      "4  6581ffbe7d4586d80596ad84        Habitación privada   \n",
      "\n",
      "                                            field3  \\\n",
      "0                                nombreAlojamiento   \n",
      "1       Beautiful and sunny apartment at Eixample!   \n",
      "2                             Room near the center   \n",
      "3  Luminoso y coqueto ático. - License HUTB-016889   \n",
      "4        Habitación en Gracia cerca del Park Güell   \n",
      "\n",
      "                       field4                                          field5  \\\n",
      "0                        Zona                                            Nhab   \n",
      "1               El Fort Pienc    2 huéspedes · 1 dormitorio · 1 cama · 1 baño   \n",
      "2  Distrito de Sants-Montjuïc    2 huéspedes · 1 dormitorio · 1 cama · 1 baño   \n",
      "3   L'Hospitalet de Llobregat  4 huéspedes · 2 dormitorios · 4 camas · 1 baño   \n",
      "4                El Poble Sec    2 huéspedes · 1 dormitorio · 1 cama · 1 baño   \n",
      "\n",
      "                                              field6             field7  \\\n",
      "0                                          Servicios             Fechas   \n",
      "1                           Wifi · Cocina · Lavadora  17 dic. – 19 dic.   \n",
      "2                                               Wifi  17 dic. – 19 dic.   \n",
      "3  Tu anfitrión es una empresa · Wifi · Cocina · ...  26 nov. – 28 nov.   \n",
      "4      Wifi · Cocina · Lavadora · Aire acondicionado  10 dic. – 12 dic.   \n",
      "\n",
      "       field8               field9 field10        field11  \n",
      "0  Valoracion         Evaluaciones   Noche          Total  \n",
      "1          NA  No hay evaluaciones    58 €  116€ en total  \n",
      "2        4,21   (185 evaluaciones)    36 €   71€ en total  \n",
      "3        4,46   (216 evaluaciones)    93 €  185€ en total  \n",
      "4        4,78   (201 evaluaciones)    29 €   57€ en total  \n"
     ]
    }
   ],
   "source": [
    "import sqlite3\n",
    "import pandas as pd\n",
    "# Conectar a la base de datos\n",
    "conectar = sqlite3.connect('file3.db')\n",
    "# Utilizar Pandas para leer datos desde la tabla 'mi_tabla'\n",
    "dataframe = pd.read_sql_query('SELECT * FROM file3', conectar)\n",
    "# Mostrar las primeras 5 filas\n",
    "print(dataframe.head())\n",
    "# Cerrar la conexión cuando hayas terminado\n",
    "conectar.close()"
   ]
  },
  {
   "cell_type": "code",
   "execution_count": null,
   "id": "9f0b9dc5-0066-4b2a-abcc-928272f04dc8",
   "metadata": {},
   "outputs": [],
   "source": [
    "#transformar el archivo a csv\n",
    "import sqlite3\n",
    "import pandas as pd\n",
    "# Conectar a la base de datos\n",
    "conexion = sqlite3.connect('file3.db')\n",
    "# Utilizar Pandas para leer datos desde file3\n",
    "dataframe = pd.read_sql_query('SELECT * FROM file3', conexion)\n",
    "# Exportar el DataFrame a un archivo CSV llamado 'file3.csv'\n",
    "dataframe.to_csv('file3.csv', index=False)\n",
    "# cerrar la conexión \n",
    "conexion.close()"
   ]
  }
 ],
 "metadata": {
  "kernelspec": {
   "display_name": "Python 3 (ipykernel)",
   "language": "python",
   "name": "python3"
  },
  "language_info": {
   "codemirror_mode": {
    "name": "ipython",
    "version": 3
   },
   "file_extension": ".py",
   "mimetype": "text/x-python",
   "name": "python",
   "nbconvert_exporter": "python",
   "pygments_lexer": "ipython3",
   "version": "3.12.0"
  }
 },
 "nbformat": 4,
 "nbformat_minor": 5
}
