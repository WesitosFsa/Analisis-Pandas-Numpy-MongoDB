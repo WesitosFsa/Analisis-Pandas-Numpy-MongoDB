{
 "cells": [
  {
   "cell_type": "code",
   "execution_count": 1,
   "id": "cea3f316-c1f8-4065-904f-c148e1ff109e",
   "metadata": {},
   "outputs": [
    {
     "name": "stdout",
     "output_type": "stream",
     "text": [
      "Conexion a mongo exitosa\n"
     ]
    }
   ],
   "source": [
    "import pymongo\n",
    "host=\"localhost\"\n",
    "puerto=\"27017\"\n",
    "tiempo=1000\n",
    "\n",
    "url=\"mongodb://\"+host+\":\"+puerto+\"/\"\n",
    "try:\n",
    "    cliente=pymongo.MongoClient(url,serverSelectionTimeoutMS=tiempo)\n",
    "    cliente.server_info()\n",
    "    print(\"Conexion a mongo exitosa\")\n",
    "    cliente.close()\n",
    "except pymongo.errors.ServerSelectionTimeoutError as errorTiempo:\n",
    "    print(\"Tiempo exedido\"+errorTiempo)\n",
    "except pymongo.errors.ConnectionFailure as errorConexion:\n",
    "    print(\"Fallo al conectarse a mongodb\"+errorConexion)"
   ]
  },
  {
   "cell_type": "code",
   "execution_count": 2,
   "id": "79ee5ddc-ff2b-4f86-84f1-96b515c0c979",
   "metadata": {},
   "outputs": [
    {
     "name": "stdout",
     "output_type": "stream",
     "text": [
      "Conexion a mongo exitosa\n"
     ]
    }
   ],
   "source": [
    "#importar libreria de py mongo y mongoclient\n",
    "import pymongo\n",
    "from pymongo import MongoClient\n",
    "#conexion\n",
    "conexion=MongoClient(\"localhost\",27017)\n",
    "#basez\n",
    "base = conexion.VIDEOJUEGOS\n",
    "#coleccion\n",
    "coleccion = base.JUEGOS\n",
    "#fin de conexion\n",
    "conexion.close()\n",
    "\n"
   ]
  },
  {
   "cell_type": "code",
   "execution_count": null,
   "id": "666f9b95-77ff-4e5c-9cab-d65b51dba1e9",
   "metadata": {},
   "outputs": [],
   "source": []
  },
  {
   "cell_type": "code",
   "execution_count": null,
   "id": "e127c5bf-cf73-4eb0-9297-b977c3cff3cb",
   "metadata": {},
   "outputs": [],
   "source": []
  }
 ],
 "metadata": {
  "kernelspec": {
   "display_name": "Python 3 (ipykernel)",
   "language": "python",
   "name": "python3"
  },
  "language_info": {
   "codemirror_mode": {
    "name": "ipython",
    "version": 3
   },
   "file_extension": ".py",
   "mimetype": "text/x-python",
   "name": "python",
   "nbconvert_exporter": "python",
   "pygments_lexer": "ipython3",
   "version": "3.12.0"
  }
 },
 "nbformat": 4,
 "nbformat_minor": 5
}
