{
 "cells": [
  {
   "cell_type": "code",
   "execution_count": 8,
   "id": "fc956e30-d9ca-4f73-a3fe-407cdbe96f4a",
   "metadata": {},
   "outputs": [
    {
     "name": "stdout",
     "output_type": "stream",
     "text": [
      "[[1 2 3]\n",
      " [4 5 6]\n",
      " [7 8 9]]\n",
      "\n",
      "1\n",
      "9\n",
      "[3 6 9]\n",
      "[7 8 9]\n",
      "[1 4 7]\n",
      "[1 2 3]\n",
      "[2 2 2]\n"
     ]
    }
   ],
   "source": [
    "import numpy as np\n",
    "#axis 1 filas axis 0 columnass\n",
    "m=np.array([[1,2,3],[4,5,6],[7,8,9]])\n",
    "print(m)\n",
    "print(\"\")\n",
    "#valor minimo\n",
    "print(np.amin(m))\n",
    "#valor maximo\n",
    "print(np.amax(m))\n",
    "#valor minimo o maximo de filas\n",
    "print(np.amax(m,1))#valor maximo de columnas\n",
    "print(np.amax(m,0))#valor maximo de filas\n",
    "print(np.amin(m,1))#valor minimo de columnas\n",
    "print(np.amin(m,0))#valor minimo de filas\n",
    "#encontrar rango elemento maximo menos minomo\n",
    "print(np.ptp(m,axis=1))\n"
   ]
  },
  {
   "cell_type": "code",
   "execution_count": null,
   "id": "61fb0e97-388b-4411-8963-720649555512",
   "metadata": {},
   "outputs": [],
   "source": []
  }
 ],
 "metadata": {
  "kernelspec": {
   "display_name": "Python 3 (ipykernel)",
   "language": "python",
   "name": "python3"
  },
  "language_info": {
   "codemirror_mode": {
    "name": "ipython",
    "version": 3
   },
   "file_extension": ".py",
   "mimetype": "text/x-python",
   "name": "python",
   "nbconvert_exporter": "python",
   "pygments_lexer": "ipython3",
   "version": "3.12.0"
  }
 },
 "nbformat": 4,
 "nbformat_minor": 5
}
