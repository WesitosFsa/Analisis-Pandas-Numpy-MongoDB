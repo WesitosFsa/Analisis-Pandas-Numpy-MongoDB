{
 "cells": [
  {
   "cell_type": "code",
   "execution_count": 5,
   "id": "81a59901-f18a-471f-acf4-d634a0e89bd2",
   "metadata": {},
   "outputs": [
    {
     "name": "stdout",
     "output_type": "stream",
     "text": [
      "[1, 3, 5]\n",
      "[10 12 14]\n"
     ]
    }
   ],
   "source": [
    "import numpy as np\n",
    "#lista multiples tipos de datos\n",
    "#Array elementos homogenios de un mismo tipo de dato\n",
    "#python \n",
    "#listas no pueden manejar operacioes aritmeticas directamente\n",
    "lista=[1,3,5] #coleccion de datos\n",
    "print(lista)\n",
    "lista.append(7)#funciona \n",
    "#numpy\n",
    "#arrays puede manejar directamnte operaciones aritmeticas\n",
    "matriz = np.array([2,4,6]) #cada uno de los elementos en una matriz es independiente\n",
    "#matriz.append(8)#no funciona \n",
    "matriz = matriz + np.array([8])#cada uno de los elementos son ubicados en un espacio de memoria\n",
    "print (matriz)\n"
   ]
  },
  {
   "cell_type": "code",
   "execution_count": 6,
   "id": "0440087f-fe28-4b77-960b-133f81dd0ae0",
   "metadata": {},
   "outputs": [
    {
     "name": "stdout",
     "output_type": "stream",
     "text": [
      "[1, 2, 3, 4, 5, 6]\n"
     ]
    }
   ],
   "source": [
    "a=[1,2,3]\n",
    "b=[4,5,6]\n",
    "print(a+b)\n",
    "#une las listas pporque no se pueden realizar operacion de manera directa"
   ]
  },
  {
   "cell_type": "code",
   "execution_count": 7,
   "id": "ea8d6021-d941-4cfe-b26c-d1b329a029eb",
   "metadata": {},
   "outputs": [
    {
     "name": "stdout",
     "output_type": "stream",
     "text": [
      "[ 4 10 18]\n",
      "[5 7 9]\n"
     ]
    }
   ],
   "source": [
    "import numpy as np\n",
    "a=np.array([1,2,3])\n",
    "b=np.array([4,5,6])\n",
    "print (a * b)\n",
    "print (a + b)"
   ]
  },
  {
   "cell_type": "code",
   "execution_count": null,
   "id": "ad260bb1-2ba7-48c8-b9fc-2a7aacee611c",
   "metadata": {},
   "outputs": [],
   "source": []
  }
 ],
 "metadata": {
  "kernelspec": {
   "display_name": "Python 3 (ipykernel)",
   "language": "python",
   "name": "python3"
  },
  "language_info": {
   "codemirror_mode": {
    "name": "ipython",
    "version": 3
   },
   "file_extension": ".py",
   "mimetype": "text/x-python",
   "name": "python",
   "nbconvert_exporter": "python",
   "pygments_lexer": "ipython3",
   "version": "3.12.0"
  }
 },
 "nbformat": 4,
 "nbformat_minor": 5
}
