{
 "cells": [
  {
   "cell_type": "code",
   "execution_count": 5,
   "id": "4d17539c-e64f-4228-a1a5-7919dbdaf905",
   "metadata": {},
   "outputs": [
    {
     "name": "stdout",
     "output_type": "stream",
     "text": [
      "[[0 1 2]\n",
      " [4 2 3]]\n",
      "\n",
      "[4 3 5]\n",
      "[3 9]\n"
     ]
    }
   ],
   "source": [
    "#axis 1 columna axis 0 filas\n",
    "import numpy as np\n",
    "m= np.array([[0,1,2],[4,2,3]])\n",
    "print(m)\n",
    "print(\"\")\n",
    "print(np.sum(m, axis=0))#Suma filas\n",
    "print(np.sum(m, axis=1))#Suma columnas"
   ]
  },
  {
   "cell_type": "code",
   "execution_count": 11,
   "id": "3778adbe-6e22-4350-832e-4c48bac002d8",
   "metadata": {},
   "outputs": [
    {
     "name": "stdout",
     "output_type": "stream",
     "text": [
      "[[1 1]\n",
      " [1 1]] [[8 8]\n",
      " [8 8]]\n",
      "[[1 1]\n",
      " [1 1]\n",
      " [8 8]\n",
      " [8 8]]\n",
      "[[1 1 8 8]\n",
      " [1 1 8 8]]\n"
     ]
    }
   ],
   "source": [
    "import numpy as np\n",
    "m1=np.array([[1,1],[1,1]])\n",
    "m2=np.array([[8,8],[8,8]])\n",
    "print(m1,m2)\n",
    "print (np.concatenate([m1,m2], axis=0))#concatena como filas\n",
    "print (np.concatenate([m1,m2], axis=1))#concatena como columnas"
   ]
  },
  {
   "cell_type": "code",
   "execution_count": null,
   "id": "da1c6ec1-a0a3-457b-badc-587ea2900ae4",
   "metadata": {},
   "outputs": [],
   "source": []
  }
 ],
 "metadata": {
  "kernelspec": {
   "display_name": "Python 3 (ipykernel)",
   "language": "python",
   "name": "python3"
  },
  "language_info": {
   "codemirror_mode": {
    "name": "ipython",
    "version": 3
   },
   "file_extension": ".py",
   "mimetype": "text/x-python",
   "name": "python",
   "nbconvert_exporter": "python",
   "pygments_lexer": "ipython3",
   "version": "3.12.0"
  }
 },
 "nbformat": 4,
 "nbformat_minor": 5
}
