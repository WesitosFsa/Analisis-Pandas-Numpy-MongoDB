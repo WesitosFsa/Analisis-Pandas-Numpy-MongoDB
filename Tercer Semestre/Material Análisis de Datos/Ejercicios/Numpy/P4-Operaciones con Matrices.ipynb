{
 "cells": [
  {
   "cell_type": "code",
   "execution_count": 1,
   "id": "a10ad3e6-19c9-4be2-8f4b-9a06a9d76922",
   "metadata": {},
   "outputs": [
    {
     "name": "stdout",
     "output_type": "stream",
     "text": [
      "22\n",
      "[[ 0  1  2  3  4  5]\n",
      " [ 6  7  8  9 10 11]\n",
      " [12 13 14 15 16 17]\n",
      " [18 19 20 21 22 23]]\n"
     ]
    }
   ],
   "source": [
    "import numpy as np\n",
    "m= np.arange(24).reshape(4,6)\n",
    "print(m[3,4])\n",
    "print(m)"
   ]
  },
  {
   "cell_type": "code",
   "execution_count": 3,
   "id": "74f9ef1d-b6c0-45b8-b531-19beb973fbb7",
   "metadata": {},
   "outputs": [
    {
     "name": "stdout",
     "output_type": "stream",
     "text": [
      "[ 1  2  3  7  9 90]\n"
     ]
    }
   ],
   "source": [
    "#ordenar elementos\n",
    "m1 = np.array([90,7,9,3,2,1])\n",
    "print(np.sort(m1))"
   ]
  },
  {
   "cell_type": "code",
   "execution_count": 4,
   "id": "bfef5297-cc86-45e4-a126-6d8ba3e05132",
   "metadata": {},
   "outputs": [
    {
     "name": "stdout",
     "output_type": "stream",
     "text": [
      "[ 8 27]\n"
     ]
    }
   ],
   "source": [
    "#elevar elementos a n potencia\n",
    "m1=np.array([2,3])\n",
    "print(np.power(m1,3))"
   ]
  },
  {
   "cell_type": "code",
   "execution_count": 6,
   "id": "1f1d5c2c-c03c-48d8-9fc0-0bd4a8dda4b8",
   "metadata": {},
   "outputs": [
    {
     "name": "stdout",
     "output_type": "stream",
     "text": [
      "[False False  True  True  True  True]\n"
     ]
    }
   ],
   "source": [
    "#con condiciones\n",
    "m1=np.array([2,3,4,5,6,7])\n",
    "print(np.array(m1>=4))"
   ]
  },
  {
   "cell_type": "code",
   "execution_count": 7,
   "id": "bd7f3598-817a-4e9c-b222-59c86a44a2af",
   "metadata": {},
   "outputs": [
    {
     "name": "stdout",
     "output_type": "stream",
     "text": [
      "7\n",
      "2\n"
     ]
    }
   ],
   "source": [
    "#encontrar el valor maximo y minimo que se encuentra en la mtriz\n",
    "m1= np.array([2,3,4,5,6,7])\n",
    "print(np.max(m1))\n",
    "print(np.min(m1))"
   ]
  },
  {
   "cell_type": "code",
   "execution_count": 8,
   "id": "2757a508-abaf-4a04-949c-3478817c273a",
   "metadata": {},
   "outputs": [
    {
     "name": "stdout",
     "output_type": "stream",
     "text": [
      "[ 1  2  3  4  5 11 22 33 44 55]\n"
     ]
    }
   ],
   "source": [
    "#combinar 2 matrices\n",
    "m1= np.array([1,2,3,4,5])\n",
    "m2= np.array([11,22,33,44,55])\n",
    "print(np.concatenate((m1,m2)))"
   ]
  },
  {
   "cell_type": "code",
   "execution_count": 13,
   "id": "ab77efa5-ab49-41cd-85e3-fc7f7c33e826",
   "metadata": {},
   "outputs": [
    {
     "name": "stdout",
     "output_type": "stream",
     "text": [
      "[[ 6  8]\n",
      " [10 12]]\n",
      "[[19 22]\n",
      " [43 50]]\n",
      "[[3 4]\n",
      " [5 6]]\n"
     ]
    }
   ],
   "source": [
    "m1= np.array([[1,2],[3,4]])\n",
    "m2= np.array([[5,6],[7,8]])\n",
    "print(m1+m2)#suma resta multiplicacion division\n",
    "print(m1.dot(m2))#multiplica de forma horizontal la otra matriz de forma vertical\n",
    "print(m1+2)"
   ]
  },
  {
   "cell_type": "code",
   "execution_count": null,
   "id": "4cd69fbd-e211-4cf4-8b28-b5e710b6ed73",
   "metadata": {},
   "outputs": [],
   "source": []
  }
 ],
 "metadata": {
  "kernelspec": {
   "display_name": "Python 3 (ipykernel)",
   "language": "python",
   "name": "python3"
  },
  "language_info": {
   "codemirror_mode": {
    "name": "ipython",
    "version": 3
   },
   "file_extension": ".py",
   "mimetype": "text/x-python",
   "name": "python",
   "nbconvert_exporter": "python",
   "pygments_lexer": "ipython3",
   "version": "3.12.0"
  }
 },
 "nbformat": 4,
 "nbformat_minor": 5
}
