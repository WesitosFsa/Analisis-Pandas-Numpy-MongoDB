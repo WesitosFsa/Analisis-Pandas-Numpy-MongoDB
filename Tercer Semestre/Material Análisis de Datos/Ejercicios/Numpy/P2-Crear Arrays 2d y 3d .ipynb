{
 "cells": [
  {
   "cell_type": "code",
   "execution_count": 5,
   "id": "923f461a-19d6-4509-8611-70dd3d78e4ae",
   "metadata": {},
   "outputs": [
    {
     "name": "stdout",
     "output_type": "stream",
     "text": [
      "[[1 2 3]\n",
      " [4 5 6]]\n"
     ]
    }
   ],
   "source": [
    "import numpy as np\n",
    "#crear matriz 2d y 3d\n",
    "matriz2d = np.array([[1,2,3],[4,5,6]])\n",
    "print(matriz2d)"
   ]
  },
  {
   "cell_type": "code",
   "execution_count": 9,
   "id": "e25503a0-418e-4333-8f9e-9dade33b0152",
   "metadata": {},
   "outputs": [
    {
     "name": "stdout",
     "output_type": "stream",
     "text": [
      "[[1 2 3 4 5]\n",
      " [6 7 8 9 0]]\n"
     ]
    }
   ],
   "source": [
    "#extraer informacion de listas a matrices\n",
    "lista = [[1,2,3,4,5],[6,7,8,9,0]]\n",
    "matriz = np.array(lista)\n",
    "print(matriz)"
   ]
  },
  {
   "cell_type": "code",
   "execution_count": 12,
   "id": "8ac4e8ab-5170-43e9-bd49-55ccf5621c6d",
   "metadata": {},
   "outputs": [
    {
     "name": "stdout",
     "output_type": "stream",
     "text": [
      "[[ 0  1  2]\n",
      " [ 3  4  5]\n",
      " [ 6  7  8]\n",
      " [ 9 10 11]\n",
      " [12 13 14]]\n"
     ]
    }
   ],
   "source": [
    "#crear matris de manera rapida\n",
    "#arange genera un rango depositas un valor (15) la cantidad de elementos que va a haber reshape(\"filas\",\"columnas\")\n",
    "m = np.arange(15).reshape(5,3)\n",
    "print(m)\n"
   ]
  },
  {
   "cell_type": "code",
   "execution_count": null,
   "id": "9efddb78-9294-4676-a196-25319c9205ea",
   "metadata": {},
   "outputs": [],
   "source": []
  }
 ],
 "metadata": {
  "kernelspec": {
   "display_name": "Python 3 (ipykernel)",
   "language": "python",
   "name": "python3"
  },
  "language_info": {
   "codemirror_mode": {
    "name": "ipython",
    "version": 3
   },
   "file_extension": ".py",
   "mimetype": "text/x-python",
   "name": "python",
   "nbconvert_exporter": "python",
   "pygments_lexer": "ipython3",
   "version": "3.12.0"
  }
 },
 "nbformat": 4,
 "nbformat_minor": 5
}
