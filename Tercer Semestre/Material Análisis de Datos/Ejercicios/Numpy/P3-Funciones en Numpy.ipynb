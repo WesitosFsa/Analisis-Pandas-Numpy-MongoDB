{
 "cells": [
  {
   "cell_type": "code",
   "execution_count": 3,
   "id": "ee31df47-cf14-45a8-835d-e5d8a915be79",
   "metadata": {},
   "outputs": [
    {
     "name": "stdout",
     "output_type": "stream",
     "text": [
      "(4, 5)\n",
      "2\n",
      "20\n",
      "[[ 0  1  2  3  4]\n",
      " [ 5  6  7  8  9]\n",
      " [10 11 12 13 14]\n",
      " [15 16 17 18 19]]\n"
     ]
    }
   ],
   "source": [
    "import numpy as np\n",
    "m = np.arange(20).reshape(4,5)\n",
    "print(m.shape)#cuantas filas y columnas hay en la matriz\n",
    "print(m.ndim)#cuantas dimenciones tiene la matriz\n",
    "print(m.size)#cuantos elementos tiene esta matriz\n",
    "print(m)"
   ]
  },
  {
   "cell_type": "code",
   "execution_count": 5,
   "id": "fd21a845-2b4b-4a9a-9f3e-44d3e90498d1",
   "metadata": {},
   "outputs": [
    {
     "name": "stdout",
     "output_type": "stream",
     "text": [
      "[[0. 0. 0. 0.]\n",
      " [0. 0. 0. 0.]\n",
      " [0. 0. 0. 0.]]\n"
     ]
    }
   ],
   "source": [
    "#matriz llena de seros\n",
    "m = np.zeros((3,4))\n",
    "print(m)"
   ]
  },
  {
   "cell_type": "code",
   "execution_count": 7,
   "id": "92388aa9-d472-4b0f-84d1-26d0ff24cb6c",
   "metadata": {},
   "outputs": [
    {
     "name": "stdout",
     "output_type": "stream",
     "text": [
      "[99.         98.54166667 98.08333333 97.625      97.16666667 96.70833333\n",
      " 96.25       95.79166667 95.33333333 94.875      94.41666667 93.95833333\n",
      " 93.5        93.04166667 92.58333333 92.125      91.66666667 91.20833333\n",
      " 90.75       90.29166667 89.83333333 89.375      88.91666667 88.45833333\n",
      " 88.        ]\n"
     ]
    }
   ],
   "source": [
    "#(\"desde\",\"hasta\",\"cuantos\")\n",
    "m= np.linspace(99,88,25)\n",
    "print(m)"
   ]
  },
  {
   "cell_type": "code",
   "execution_count": 10,
   "id": "aeea0eec-f13c-4b7a-b41c-3f6d9c303934",
   "metadata": {},
   "outputs": [
    {
     "name": "stdout",
     "output_type": "stream",
     "text": [
      "[[[ 0  1]\n",
      "  [ 2  3]\n",
      "  [ 4  5]\n",
      "  [ 6  7]]\n",
      "\n",
      " [[ 8  9]\n",
      "  [10 11]\n",
      "  [12 13]\n",
      "  [14 15]]\n",
      "\n",
      " [[16 17]\n",
      "  [18 19]\n",
      "  [20 21]\n",
      "  [22 23]]]\n"
     ]
    }
   ],
   "source": [
    "#(\"lados\",\"filas\",\"columnas\")\n",
    "m = np.arange(24).reshape(3,4,2)\n",
    "print(m)"
   ]
  },
  {
   "cell_type": "code",
   "execution_count": null,
   "id": "c9ff9bd6-f537-43b4-b608-fc85114d8eff",
   "metadata": {},
   "outputs": [],
   "source": []
  }
 ],
 "metadata": {
  "kernelspec": {
   "display_name": "Python 3 (ipykernel)",
   "language": "python",
   "name": "python3"
  },
  "language_info": {
   "codemirror_mode": {
    "name": "ipython",
    "version": 3
   },
   "file_extension": ".py",
   "mimetype": "text/x-python",
   "name": "python",
   "nbconvert_exporter": "python",
   "pygments_lexer": "ipython3",
   "version": "3.12.0"
  }
 },
 "nbformat": 4,
 "nbformat_minor": 5
}
