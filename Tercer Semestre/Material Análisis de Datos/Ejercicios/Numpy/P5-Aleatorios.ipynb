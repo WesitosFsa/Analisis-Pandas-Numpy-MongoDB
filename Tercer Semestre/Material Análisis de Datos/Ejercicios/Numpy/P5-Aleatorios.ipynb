{
 "cells": [
  {
   "cell_type": "code",
   "execution_count": 10,
   "id": "f7d289be-3d68-4970-86fb-3c9ade4b348d",
   "metadata": {},
   "outputs": [
    {
     "name": "stdout",
     "output_type": "stream",
     "text": [
      "[[0.69401018 0.41408055]\n",
      " [0.05430427 0.40517332]]\n",
      "[[[8 1]\n",
      "  [7 4]]\n",
      "\n",
      " [[5 6]\n",
      "  [1 3]]]\n"
     ]
    }
   ],
   "source": [
    "import numpy as np\n",
    "m=np.random.rand(2,2)\n",
    "print(m)\n",
    "#numeros enteros aleatorios en una matriz\n",
    "m=np.random.randint(10,size=(2,2,2))\n",
    "print(m)"
   ]
  },
  {
   "cell_type": "code",
   "execution_count": 16,
   "id": "a3bd10df-2f09-4916-b791-b8b0414ceb25",
   "metadata": {},
   "outputs": [
    {
     "name": "stdout",
     "output_type": "stream",
     "text": [
      "[[9 1 3]\n",
      " [9 9 5]]\n"
     ]
    }
   ],
   "source": [
    "#escoje aleatorimente cualquier de los elementos que esta ahi\n",
    "m=np.random.choice([3,5,9,5,1],size=(2,3))\n",
    "print(m)"
   ]
  },
  {
   "cell_type": "code",
   "execution_count": 21,
   "id": "53d4a089-3d7a-4f07-9fb9-233a62c60e63",
   "metadata": {},
   "outputs": [
    {
     "name": "stdout",
     "output_type": "stream",
     "text": [
      "[[ 8 10  8  8 10  2 10 10  8  4]\n",
      " [10  2 10 10 10  4  4  2 10  4]\n",
      " [10  4 10  2  8  8  4 10 10  4]\n",
      " [ 8  4 10 10 10  8  4  4 10  4]\n",
      " [ 4  4  8  2  8  4  8  4  4 10]]\n"
     ]
    }
   ],
   "source": [
    "m=np.random.choice([4,2,8,10],p=[0.25,0.25,0.25,0.25],size=(5,10))\n",
    "print(m)"
   ]
  },
  {
   "cell_type": "code",
   "execution_count": null,
   "id": "c2c980bd-60d4-4d17-b91d-67ba3f2eb5f6",
   "metadata": {},
   "outputs": [],
   "source": []
  }
 ],
 "metadata": {
  "kernelspec": {
   "display_name": "Python 3 (ipykernel)",
   "language": "python",
   "name": "python3"
  },
  "language_info": {
   "codemirror_mode": {
    "name": "ipython",
    "version": 3
   },
   "file_extension": ".py",
   "mimetype": "text/x-python",
   "name": "python",
   "nbconvert_exporter": "python",
   "pygments_lexer": "ipython3",
   "version": "3.12.0"
  }
 },
 "nbformat": 4,
 "nbformat_minor": 5
}
